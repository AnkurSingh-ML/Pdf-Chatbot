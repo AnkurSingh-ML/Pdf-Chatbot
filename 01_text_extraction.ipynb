{
 "cells": [
  {
   "cell_type": "markdown",
   "id": "11ed3178",
   "metadata": {},
   "source": [
    "# Extraction of Text from PDF"
   ]
  },
  {
   "cell_type": "code",
   "execution_count": null,
   "id": "cbd93a6b",
   "metadata": {
    "vscode": {
     "languageId": "plaintext"
    }
   },
   "outputs": [],
   "source": []
  }
 ],
 "metadata": {
  "language_info": {
   "name": "python"
  }
 },
 "nbformat": 4,
 "nbformat_minor": 5
}
