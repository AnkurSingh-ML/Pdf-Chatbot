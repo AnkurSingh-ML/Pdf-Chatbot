{
 "cells": [
  {
   "cell_type": "markdown",
   "id": "11ed3178",
   "metadata": {},
   "source": [
    "# Extraction of Text from PDF"
   ]
  },
  {
   "cell_type": "markdown",
   "id": "cbd93a6b",
   "metadata": {},
   "source": []
  }
 ],
 "metadata": {
  "language_info": {
   "name": "python"
  }
 },
 "nbformat": 4,
 "nbformat_minor": 5
}
